{
 "cells": [
  {
   "cell_type": "markdown",
   "id": "90895377",
   "metadata": {},
   "source": [
    "# Dose-Response Curve\n",
    "\n",
    "In the later portions of drug development—the field of pharmacology—the sensitivity to a drug acting at a receptor of interest is evaluated. Pharmacology is the branch of medicine, biology and pharmaceutical sciences concerned with drug or medication action where a molecule exerts a biochemical or physiological effect on the cell, tissue, organ, or organism. "
   ]
  },
  {
   "cell_type": "code",
   "execution_count": null,
   "id": "5e70b4cc",
   "metadata": {},
   "outputs": [],
   "source": [
    "import numpy as np #used for arrays and numerical functions\n",
    "import pandas as pd #used for reading a data file\n",
    "import matplotlib.pyplot as plt #used for graphing\n",
    "from scipy.optimize import curve_fit #used to find fit parameters"
   ]
  },
  {
   "attachments": {
    "image.png": {
     "image/png": "[encoded data removed]"
    }
   },
   "cell_type": "markdown",
   "id": "7bf16453",
   "metadata": {},
   "source": [
    "A series of experiments is conducted to create a dose-response curve, a plot of response to drug treatment vs. drug concentration which allows for the application of a non-linear regression model to produce a sigmoidal curve. The x-values are the concentrations (doses) of a drug used in the experiment. In pharmacology there are four different classes of drugs used in dose-response experiments: \n",
    "\n",
    "-\t**Agonist** – Amplifies the response of the signal \n",
    "-\t**Partial agonist** – Elicits a response, but not the maximum response. \n",
    "-\t**Inverse agonist** – Produces an opposite response of the agonist. \n",
    "-\t**Antagonist** – Inhibits the action of the agonist. \n",
    "\n",
    "We will create a simplified dose-response curve comparing the drug response of both an agonist and antagonist *(note, to be reminded of the inhibitory properties of an antagonist it may be used interchangeably with 'inhibitor')*. Nonlinear regression can aid in the determination of a drug’s potency, effective concentration ($EC_{50} $), best-fit values, and interpolate unknowns from the standard curve produced. \n",
    "\n",
    "![image.png](attachment:image.png)\n",
    "\n",
    "**Figure 1**: Example image of dose-response curve from literature PRISM "
   ]
  },
  {
   "cell_type": "markdown",
   "id": "036379f8",
   "metadata": {},
   "source": [
    "## Understanding Dose-Response \n",
    "\n",
    "The y-values are the response measured in intervals. The response can decrease as drug concentration increases (downward sigmoidal) or the response can increase as the drug concentration increases (upward sigmoidal curve). This curve follows the following equation: \n",
    "\n",
    "$$ Y = \\frac{a}{1+10^{(b-x)}} + c $$ \n",
    "\n",
    "Where:\n",
    "- $Y = [A]_{bound}$ (ligand bound) \n",
    "- $x = log[A]$, $[A]$ is the free ligand concentration \n",
    "- $a = [A]_{max} – [A]_{min}$, $b = logEC_{50}$ and $c = [A]_{min}$.\n",
    "\n",
    "As mentioned previously nonlinear regression can aid in determining a drug’s $EC_{50} $, which is the effective concentration for 50% response. \n",
    " \n",
    "## Assumptions\n",
    "\n",
    "Before building our dose-response curve, we must identify the assumptions being made with plotting this data and our overall goal: \n",
    "\n",
    "-\tThe exact value of X is known, the Y values are the only unknown. \n",
    "-\tAll responses observed are independent of one another. \n",
    "\n",
    "The data used to produce our sigmoidal dose-response curve is representative data of a previous experiment done. Three replicate experiments were completed, evaluating each drug (agonist and agonist under the presence of an antagonist) at a receptor. The representative data was plotted with the literature and was found to produce the values below: \n",
    "\n",
    "$$inhibitor = (b = -6.069, EC_{50} = 8.5320e-7) $$\n",
    "$$no inhibitor = (b = -6.912, EC_{50} = 1.2440e-7)$$\n",
    "\n",
    "## The Goal\n",
    "In an attempt to replicate the work of a the literature's **PRISM**, **PR**ediction **I**nformatics for **S**econdary **M**etabolomes. We will plot the points of the representative data and fit this data to a curve fit to compare our experimental values to the literature values. This will allows us to make observations about the effectiveness of our code as compared to a the computational tool, **PRISM**. \n",
    "\n"
   ]
  },
  {
   "cell_type": "markdown",
   "id": "a7cb3036",
   "metadata": {},
   "source": [
    "## Plotting of Dose-Response Experiment Data"
   ]
  },
  {
   "cell_type": "code",
   "execution_count": null,
   "id": "3fc69b8d",
   "metadata": {},
   "outputs": [],
   "source": [
    "# Read the data file. The result is a dataframe object, which is named df in this case.\n",
    "nodf = pd.read_csv('averaged_no_inhibitor.txt', sep='\\t') #sep = seperators\n",
    "df = pd.read_csv('averaged_inhibitor.txt', sep='\\t') \n",
    "\n",
    "#print first five rows of data with the header\n",
    "print(nodf.head())\n",
    "print(df.head())"
   ]
  },
  {
   "cell_type": "markdown",
   "id": "284bc356",
   "metadata": {},
   "source": [
    "The cells above contain each of the replicates for both drugs and the cell below contain the averaged response (y-value) at a given dose (x-value). "
   ]
  },
  {
   "cell_type": "code",
   "execution_count": null,
   "id": "0be046c4",
   "metadata": {},
   "outputs": [],
   "source": [
    "# give variable names to the columns of data\n",
    "xdata = df['agonist (M)']\n",
    "xfit = np.log10(xdata) #takes the log of the concentrations to make them \n",
    "ydata = df['inhibitor']\n",
    "\n",
    "noxdata = nodf['agonist (M)']\n",
    "noxfit = np.log10(noxdata) \n",
    "noydata = nodf['no inhibitor']\n",
    "\n",
    "#define 0% and 100% as the smallest and the highest values of y axis\n",
    "a = np.amax(ydata) #highest of inhibitor data\n",
    "b = np.amin(ydata) #lowest of inhibitor data\n",
    "noa = np.amax(noydata) #highest of no inhibitor data\n",
    "nob = np.amin(noydata) #lowest of no inhibitor data\n",
    "print (a)\n",
    "print (b)\n",
    "print (noa)\n",
    "print(nob)\n",
    "\n",
    "#now that you know the 0 and 100% modify axis to see entire sigmoidal curve \n",
    "\n",
    "#transform to percentage\n",
    "ydata = ydata/a*100\n",
    "noydata = noydata/noa*100"
   ]
  },
  {
   "cell_type": "code",
   "execution_count": null,
   "id": "48325937",
   "metadata": {},
   "outputs": [],
   "source": [
    "# plot data\n",
    "fig = plt.figure(figsize=(10,6))\n",
    "plt.title(\"Sigmodial Dose Response\")\n",
    "plt.xlabel(\"log(concentration, M)\")\n",
    "plt.ylabel(\"relative response (%)\")\n",
    "plt.grid(which='both', axis='both')\n",
    "plt.semilogx(xdata,ydata,'bo') #allows for log scale on only x axis of inhibitor data\n",
    "plt.semilogx(noxdata,noydata,'ro') #allows for log scale on only x axis of no inhibitor data\n",
    "#plt.ylim(nob-2,noa+2) #change these limits to see the entire graph\n",
    "plt.show()"
   ]
  },
  {
   "cell_type": "markdown",
   "id": "d5cfbab3",
   "metadata": {},
   "source": [
    "### Analysis of Plotted Points\n",
    "\n",
    "The graph above displays the plotted values of the response of the agonist, with and without the presence of an inhibitor. The distinctive **sigmoidal “S-shape” response** can be seen with both plots. The blue points represent the response of the agonist while under the presence of the inhibitor, while the red points represent the response without. Although the purpose of this code is to calculate the same values as the commonly used computational program, **PRISM**, it is important to evaluate the data points produced to better our understanding of this method of analysis and its implication. The response with an inhibitor present is farther to the right of our graph, indicating a larger concentration of agonist is needed to elicit a response under the presence of an inhibitor. *This would be expected as an antagonist (inhibitor), inhibits the action of an agonist present.*\n"
   ]
  },
  {
   "cell_type": "code",
   "execution_count": null,
   "id": "d4f2b4fc",
   "metadata": {},
   "outputs": [],
   "source": [
    "# define the model function; this function returns y(x) for a given x and fit parameters\n",
    "model = lambda x,a,b,c: a/(1+10**(b-x)) + c \n",
    "\n",
    "# Find best fit parameters\n",
    "guess=[100,1,1] # this is the initial guess for the fit parameters; you need a 1 for each parameter\n",
    "params, covariance = curve_fit(model, xfit, ydata, p0=guess)\n",
    "\n",
    "# calculate points for the model\n",
    "xmodel = np.linspace(-10,-3.5,100) #log of concen. \n",
    "ymodel = model(xmodel,*params)\n",
    "\n",
    "\n",
    "# plot data and model\n",
    "plt.figure(figsize=(10,6))\n",
    "plt.title(\"Sigmodial Dose Response\")\n",
    "plt.xlabel(\"log(concentration, M)\")\n",
    "plt.ylabel(\"relative response (%)\")\n",
    "plt.plot(xfit,ydata,'.b') # data points\n",
    "plt.plot(xmodel,ymodel,'-b', label = \"inhibitor present\") #curve fit model\n",
    "plt.legend()\n",
    "plt.grid()\n",
    "plt.show()\n",
    "\n",
    "#results\n",
    "residuals = model(xfit,*params) - ydata\n",
    "print(\"The sum of the squares of the residuals = {:e}\".format(np.sum(residuals**2)))\n",
    "print(\"The curve fit parameters for the inhibitor are: {:.3f}, {:.3f}, {:.3f}\".format(*params))\n",
    "#note the values produced in curve fit parameters are in alphabetic order: a, b c"
   ]
  },
  {
   "cell_type": "code",
   "execution_count": null,
   "id": "22efd624",
   "metadata": {},
   "outputs": [],
   "source": [
    "# Find best fit parameters\n",
    "guess=[100,1,1] # this is the initial guess for the fit parameters; you need a 1 for each parameter\n",
    "params, covariance = curve_fit(model, noxfit, noydata, p0=guess)\n",
    "\n",
    "# calculate points for the model\n",
    "noxmodel = np.linspace(-10,-4,100) #log of concen. \n",
    "noymodel = model(noxmodel,*params)\n",
    "\n",
    "\n",
    "# plot data and model\n",
    "plt.figure(figsize=(10,6))\n",
    "plt.title(\"Sigmodial Dose Response\")\n",
    "plt.xlabel(\"log(concentration, M)\")\n",
    "plt.ylabel(\"relative response (%)\")\n",
    "plt.plot(noxfit,noydata,'.r') # data points\n",
    "plt.plot(noxmodel,noymodel,'-r', label = \"no inhibitor present\") #curve fit model\n",
    "plt.legend()\n",
    "plt.grid()\n",
    "plt.show()\n",
    "\n",
    "#results\n",
    "residuals = model(noxfit,*params) - noydata\n",
    "print(\"The sum of the squares of the residuals = {:e}\".format(np.sum(residuals**2)))\n",
    "print(\"The curve fit parameters for no inhibitor are: {:.3f}, {:.3f}, {:.3f}\".format(*params))\n",
    "#note the values produced in curve fit parameters are in alphabetic order: a, b c"
   ]
  },
  {
   "cell_type": "code",
   "execution_count": null,
   "id": "c6f61395",
   "metadata": {},
   "outputs": [],
   "source": [
    "#conversion of models to produce unique logarithmic x axis \n",
    "xconc = 10**xmodel\n",
    "noxconc = 10**noxmodel \n",
    "\n",
    "# plot data and model\n",
    "plt.figure(figsize=(10,6))\n",
    "plt.title(\"Sigmodial Dose Response\")\n",
    "plt.xlabel(\"log(concentration, M)\")\n",
    "plt.ylabel(\"relative response (%)\")\n",
    "#note plt.semilogx() displays the logarithmic axis\n",
    "plt.semilogx(xdata,ydata,'.b') # data\n",
    "plt.semilogx(xconc,ymodel,'-b', label = \"inhibitor present\") #model\n",
    "plt.semilogx(noxdata,noydata,'.r') # data\n",
    "plt.semilogx(noxconc,noymodel,'-r', label = \"no inhibitor present\") #model\n",
    "plt.legend()\n",
    "plt.grid()\n",
    "plt.show()\n",
    "\n",
    "#results\n",
    "residuals = model(xfit,*params) - ydata"
   ]
  },
  {
   "cell_type": "code",
   "execution_count": null,
   "id": "63ca5f24",
   "metadata": {},
   "outputs": [],
   "source": [
    "#note the b value of the curve fit parameter is equal to log(EC50) \n",
    "exp_b = 10**-6.107 \n",
    "noexp_b = 10**-6.945\n",
    "print(\"The EC50 under presence of inhibitor = \", exp_b)\n",
    "print(\"The EC50 under presence of no inhibitor = \", noexp_b)\n",
    "\n",
    "#Calculation of yields \n",
    "inyield_b = (abs(-6.107)/abs(-6.069))*100\n",
    "inyield_EC50 = 7.8163e-7/8.5320e-7*100\n",
    "\n",
    "noinyield_b = (abs(-6.912)/abs(-6.94))*100\n",
    "noinyield_EC50 = 1.1350e-7/1.2440e-7*100\n",
    "\n",
    "print(\"The accuracy% of b, with inihibitor = \", inyield_b)\n",
    "print(\"The accuracy% of EC50, with inhibitor = \", inyield_EC50)\n",
    "\n",
    "print(\"The accuracy% of b, with no inihibitor = \", noinyield_b)\n",
    "print(\"The accuracy% of EC50, with no inhibitor = \", noinyield_EC50)"
   ]
  },
  {
   "cell_type": "markdown",
   "id": "ed584f80",
   "metadata": {},
   "source": [
    "## Conclusion \n",
    "\n",
    "In an attempt to replicate the work of a work of literature's **PRISM** data, a computational program often used for the visualization of dose-response experiments, we plotted data points and applied curve fit parameters. \n",
    "\n",
    "The literature values for the $b$ parameter and the $EC_{50}$ of the repsonse elicited when under the presence of an inhibitor and without the presence are listed below respectively. \n",
    "\n",
    "$$inhibitor = (b = -6.069, EC_{50} = 8.5320e-7) $$\n",
    "$$no inhibitor = (b = -6.912, EC_{50} = 1.2440e-7)$$\n",
    "\n",
    "The experimental values calculated today for the $b$ parameter and the $EC_{50}$ of the repsonse elicited without the presence of an inhibitor are also listed below respectively.  \n",
    "\n",
    "$$inhibitor = (b = -6.107,  EC_{50} = 7.8163e-7) $$\n",
    "$$no  inhibitor = (b = -6.945,  EC_{50} = 1.1350e-7)$$\n",
    "\n",
    "\n"
   ]
  },
  {
   "cell_type": "markdown",
   "id": "f25d21e4",
   "metadata": {},
   "source": [
    "We were about 91% accurate with our $EC_{50}$ calculations for both the response of the agonist with inhibitor and without the inhibitor. The calculations for the $b$ parameter without the presence of the inhitor were 99.6% accurate while the experimental calculation for $b$ under the presence of the inhibitor were slightly over the desired calculation (100.62%). *Overall, the computational calculations used to produce the curve fit parameters were not 100% accurate however with further analysis and we can identify the inputs responsible for this discrepancy.*"
   ]
  },
  {
   "cell_type": "markdown",
   "id": "6b442de1",
   "metadata": {},
   "source": [
    "## References\n",
    "1. [Prism 3 -- analyzing dose-response data. GraphPad. (n.d.).](https://www.graphpad.com/support/faq/prism-3-analyzing-dose-response-data/)"
   ]
  }
 ],
 "metadata": {
  "kernelspec": {
   "display_name": "Python 3 (ipykernel)",
   "language": "python",
   "name": "python3"
  },
  "language_info": {
   "codemirror_mode": {
    "name": "ipython",
    "version": 3
   },
   "file_extension": ".py",
   "mimetype": "text/x-python",
   "name": "python",
   "nbconvert_exporter": "python",
   "pygments_lexer": "ipython3",
   "version": "3.9.7"
  }
 },
 "nbformat": 4,
 "nbformat_minor": 5
}
